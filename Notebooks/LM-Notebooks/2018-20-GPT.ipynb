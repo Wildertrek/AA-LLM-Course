{
 "cells": [
  {
   "cell_type": "markdown",
   "id": "ebcc5d51-cc58-4423-aea7-73c0a502ba00",
   "metadata": {},
   "source": [
    "# Generative Pre-Trainined Transformer\n",
    "\n",
    "[2018 GPT](https://s3-us-west-2.amazonaws.com/openai-assets/research-covers/language-unsupervised/language_understanding_paper.pdf) The transformer architecture was used to create the first autoregressive model, GPT. It then evolved into [GPT-2 2019](https://huggingface.co/transformers/v2.8.0/model_doc/gpt2.html), a larger and more optimized version of GPT pre-trained on WebText, and [GPT-3 2020](), a larger and more optimized version of GPT-2 pre-trained on Common Crawl."
   ]
  },
  {
   "cell_type": "code",
   "execution_count": null,
   "id": "6fa6a4a2-f769-4da2-9417-dda630ab1b77",
   "metadata": {},
   "outputs": [],
   "source": []
  }
 ],
 "metadata": {
  "kernelspec": {
   "display_name": "Python 3 (ipykernel)",
   "language": "python",
   "name": "python3"
  },
  "language_info": {
   "codemirror_mode": {
    "name": "ipython",
    "version": 3
   },
   "file_extension": ".py",
   "mimetype": "text/x-python",
   "name": "python",
   "nbconvert_exporter": "python",
   "pygments_lexer": "ipython3",
   "version": "3.12.6"
  }
 },
 "nbformat": 4,
 "nbformat_minor": 5
}
