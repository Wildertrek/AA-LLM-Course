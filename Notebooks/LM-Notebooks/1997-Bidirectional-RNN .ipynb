{
 "cells": [
  {
   "cell_type": "markdown",
   "id": "363e582c-2641-4a56-88c3-61909fa7e2e1",
   "metadata": {},
   "source": [
    "# 1997 Bidirectional RNN"
   ]
  },
  {
   "cell_type": "code",
   "execution_count": null,
   "id": "5501b274-76c7-4466-9b7f-66156f8ccdc3",
   "metadata": {},
   "outputs": [],
   "source": []
  }
 ],
 "metadata": {
  "kernelspec": {
   "display_name": "Python 3 (ipykernel)",
   "language": "python",
   "name": "python3"
  },
  "language_info": {
   "codemirror_mode": {
    "name": "ipython",
    "version": 3
   },
   "file_extension": ".py",
   "mimetype": "text/x-python",
   "name": "python",
   "nbconvert_exporter": "python",
   "pygments_lexer": "ipython3",
   "version": "3.12.6"
  }
 },
 "nbformat": 4,
 "nbformat_minor": 5
}
