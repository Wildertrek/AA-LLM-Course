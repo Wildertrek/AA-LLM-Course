{
 "cells": [
  {
   "cell_type": "markdown",
   "id": "e9bce6be-04a7-4827-a65d-74d2f8baa9e6",
   "metadata": {},
   "source": [
    "# Bag of Words (BoW)\n",
    "\n",
    "[BoW](https://en.wikipedia.org/wiki/Bag-of-words_model)"
   ]
  },
  {
   "cell_type": "markdown",
   "id": "ade2c3b2-3d89-4295-b050-d926e7932a59",
   "metadata": {},
   "source": [
    "Imagine we have three sentences, and we want to count how often each word appears in these sentences. We’ll ignore the order of the words and just focus on how many times each word shows up.\n",
    "\n",
    "### Sentences:\n",
    "1. \"The quick brown fox jumps over the lazy dog.\"\n",
    "2. \"Never jump over the lazy dog quickly.\"\n",
    "3. \"The quick brown fox is quick and fast.\"\n",
    "\n",
    "### Step-by-Step Explanation:\n",
    "\n",
    "1. **Collect Words**: First, we look at all the sentences and make a list of every unique word. This gives us a \"vocabulary\" of all the words that appear.\n",
    "2. **Count Words**: Next, we count how many times each word in the vocabulary appears in each sentence.\n",
    "3. **Create a Table**: Finally, we put this information into a table. Each row represents a sentence, and each column represents a word from our vocabulary. The numbers in the table tell us how many times each word appears in each sentence.\n",
    "\n",
    "### Vocabulary\n",
    "Here's the list of unique words we found:  \n",
    "**Vocabulary**: ['and', 'brown', 'dog', 'fast', 'fox', 'is', 'jump', 'jumps', 'lazy', 'never', 'over', 'quick', 'quickly', 'the']\n",
    "\n",
    "### Bag of Words Table\n",
    "Now let's put these counts into a table:\n",
    "\n",
    "| Sentence # | and | brown | dog | fast | fox | is | jump | jumps | lazy | never | over | quick | quickly | the |\n",
    "|------------|-----|-------|-----|------|-----|----|------|-------|------|-------|------|-------|---------|-----|\n",
    "| Sentence 1 |  0  |   1   |  1  |  0   |  1  |  0 |   0  |   1   |  1   |   0   |  1   |   1   |    0    |  2  |\n",
    "| Sentence 2 |  0  |   0   |  1  |  0   |  0  |  0 |   1  |   0   |  1   |   1   |  1   |   0   |    1    |  1  |\n",
    "| Sentence 3 |  1  |   1   |  0  |  1   |  1  |  1 |   0  |   0   |  0   |   0   |  0   |   2   |    0    |  1  |\n",
    "\n",
    "### Explanation of the Table\n",
    "- **Rows**: Each row corresponds to one of the sentences.\n",
    "- **Columns**: Each column represents a unique word from the vocabulary.\n",
    "- **Numbers**: The numbers in the table show how many times each word appears in each sentence.\n",
    "\n",
    "### Example:\n",
    "- In **Sentence 1** (\"The quick brown fox jumps over the lazy dog.\"):\n",
    "  - The word \"the\" appears 2 times.\n",
    "  - The word \"quick\" appears 1 time.\n",
    "  - The word \"fox\" appears 1 time.\n",
    "- In **Sentence 2** (\"Never jump over the lazy dog quickly.\"):\n",
    "  - The word \"never\" appears 1 time.\n",
    "  - The word \"over\" appears 1 time.\n",
    "  - The word \"quickly\" appears 1 time.\n",
    "\n",
    "### How It Works\n",
    "- This table is called a \"Bag of Words\" because it tells us what words are in the sentence and how often they appear, just like counting different objects in a bag.\n",
    "- It’s a way to turn sentences into numbers so that computers can understand and work with them. It doesn't consider the order of the words, just the frequency of each word.\n",
    "\n",
    "This is the basic idea behind how the Bag of Words model works. It's a simple way to represent text data that helps computers process and analyze sentences."
   ]
  },
  {
   "cell_type": "code",
   "execution_count": 1,
   "id": "4b1c2463-5bba-44b6-a674-18a4f7ecb589",
   "metadata": {},
   "outputs": [
    {
     "name": "stdout",
     "output_type": "stream",
     "text": [
      "Vocabulary:\n",
      " ['and' 'brown' 'dog' 'fast' 'fox' 'is' 'jump' 'jumps' 'lazy' 'never'\n",
      " 'over' 'quick' 'quickly' 'the']\n",
      "\n",
      "Bag of Words Matrix:\n",
      " [[0 1 1 0 1 0 0 1 1 0 1 1 0 2]\n",
      " [0 0 1 0 0 0 1 0 1 1 1 0 1 1]\n",
      " [1 1 0 1 1 1 0 0 0 0 0 2 0 1]]\n"
     ]
    }
   ],
   "source": [
    "from sklearn.feature_extraction.text import CountVectorizer\n",
    "\n",
    "# Sample documents\n",
    "documents = [\n",
    "    \"The quick brown fox jumps over the lazy dog.\",\n",
    "    \"Never jump over the lazy dog quickly.\",\n",
    "    \"The quick brown fox is quick and fast.\"\n",
    "]\n",
    "\n",
    "# Initialize the CountVectorizer\n",
    "# CountVectorizer will tokenize the documents and count the occurrences of each word\n",
    "vectorizer = CountVectorizer()\n",
    "\n",
    "# Fit and transform the documents\n",
    "# This step learns the vocabulary from the documents and transforms them into a BoW matrix\n",
    "bow_matrix = vectorizer.fit_transform(documents)\n",
    "\n",
    "# Get the vocabulary (unique words in the corpus)\n",
    "# get_feature_names_out() provides the list of all unique words in the documents\n",
    "vocab = vectorizer.get_feature_names_out()\n",
    "\n",
    "# Convert the BoW matrix to an array\n",
    "# bow_matrix.toarray() converts the sparse matrix to a dense numpy array for easier viewing\n",
    "bow_array = bow_matrix.toarray()\n",
    "\n",
    "# Display the results\n",
    "# Print the vocabulary which lists all unique words in the documents\n",
    "print(\"Vocabulary:\\n\", vocab)\n",
    "# Print the BoW matrix which shows the count of each word in each document\n",
    "print(\"\\nBag of Words Matrix:\\n\", bow_array)\n"
   ]
  },
  {
   "cell_type": "code",
   "execution_count": null,
   "id": "25b808b6-06ac-437c-ac74-1c6e8c88eed7",
   "metadata": {},
   "outputs": [],
   "source": []
  }
 ],
 "metadata": {
  "kernelspec": {
   "display_name": "Python 3 (ipykernel)",
   "language": "python",
   "name": "python3"
  },
  "language_info": {
   "codemirror_mode": {
    "name": "ipython",
    "version": 3
   },
   "file_extension": ".py",
   "mimetype": "text/x-python",
   "name": "python",
   "nbconvert_exporter": "python",
   "pygments_lexer": "ipython3",
   "version": "3.12.6"
  }
 },
 "nbformat": 4,
 "nbformat_minor": 5
}
