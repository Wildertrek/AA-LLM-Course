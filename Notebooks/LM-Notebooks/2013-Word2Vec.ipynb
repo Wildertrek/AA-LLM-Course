{
 "cells": [
  {
   "cell_type": "markdown",
   "id": "b9fe04d8-453e-42d0-8071-fb18c0e3fadd",
   "metadata": {},
   "source": [
    "# 2013 - Word2Vec\n",
    "\n",
    "abstract: Here is our Jupyter notebook for the 2013 Word2Vec model, we will follow a similar structured approach. We include an introduction to Word2Vec, explain the core concepts (CBOW and Skip-Gram), and provide code using the `gensim` library to demonstrate how to train Word2Vec on a sample corpus.\n",
    "\n",
    "[2013 Word2Vec](https://arxiv.org/abs/1301.3781)  \n",
    "Word embeddings are high-dimensional vectors encapsulating semantic associations, as described by Word2Vec. This was a substantial advancement in capturing textual semantics.\n",
    "\n",
    "In this notebook, we will explore Word2Vec, a neural network-based model that learns high-dimensional vector representations of words (word embeddings) from a large corpus of text. These embeddings capture semantic relationships between words, allowing words with similar meanings to have similar vector representations.\n",
    "\n",
    "### Step-by-Step Explanation:\n",
    "\n",
    "1. **Understanding Word2Vec**: Word2Vec uses two main architectures, Continuous Bag of Words (CBOW) and Skip-Gram, to learn word embeddings. \n",
    "   - **CBOW** predicts the target word based on its context.\n",
    "   - **Skip-Gram** predicts the context words based on the target word.\n",
    "2. **Training Word2Vec**: We train the Word2Vec model using a sample corpus to learn word embeddings.\n",
    "3. **Exploring Word Embeddings**: We will explore how to use the trained model to find similar words, perform word arithmetic, and visualize the embeddings.\n",
    "\n",
    "### How It Works:\n",
    "- The Word2Vec model in the `gensim` library provides an efficient implementation to learn word embeddings using either the CBOW or Skip-Gram model.\n",
    "- The model captures semantic relationships between words based on their co-occurrence in a given window size in the text.\n",
    "\n",
    "### Implementation\n",
    "\n",
    "#### 1. Install `gensim` (if not already installed)\n",
    "\n",
    "Before running the code, ensure you have the `gensim` library installed. You can install it using:\n",
    "\n",
    "```bash\n",
    "!pip install gensim\n",
    "```"
   ]
  },
  {
   "cell_type": "code",
   "execution_count": 2,
   "id": "c80e01c5-6a9a-4963-92e7-98586cd95cd8",
   "metadata": {},
   "outputs": [],
   "source": [
    "# pip install gensim"
   ]
  },
  {
   "cell_type": "markdown",
   "id": "fb694dac-1ce6-47cc-8c90-acaa7f9d2d60",
   "metadata": {},
   "source": [
    "#### 2. Import Libraries and Initialize the Corpus"
   ]
  },
  {
   "cell_type": "code",
   "execution_count": 3,
   "id": "033d364e-442d-4894-92b4-4dd54175ed6b",
   "metadata": {},
   "outputs": [
    {
     "data": {
      "text/plain": [
       "[['the', 'quick', 'brown', 'fox', 'jumps', 'over', 'the', 'lazy', 'dog', '.'],\n",
       " ['never', 'jump', 'over', 'the', 'lazy', 'dog', 'quickly', '.'],\n",
       " ['the', 'quick', 'brown', 'fox', 'is', 'quick', 'and', 'fast', '.']]"
      ]
     },
     "execution_count": 3,
     "metadata": {},
     "output_type": "execute_result"
    }
   ],
   "source": [
    "from gensim.models import Word2Vec\n",
    "from nltk.tokenize import word_tokenize\n",
    "\n",
    "# Sample documents\n",
    "documents = [\n",
    "    \"The quick brown fox jumps over the lazy dog.\",\n",
    "    \"Never jump over the lazy dog quickly.\",\n",
    "    \"The quick brown fox is quick and fast.\"\n",
    "]\n",
    "\n",
    "# Tokenize the documents into words\n",
    "tokenized_documents = [word_tokenize(doc.lower()) for doc in documents]\n",
    "\n",
    "# Display tokenized documents\n",
    "tokenized_documents"
   ]
  },
  {
   "cell_type": "markdown",
   "id": "40348833-d72b-4df7-b28a-fa7444c53783",
   "metadata": {},
   "source": [
    "#### 3. Train the Word2Vec Model"
   ]
  },
  {
   "cell_type": "code",
   "execution_count": 4,
   "id": "f5747ce0-7a65-4d78-bcf2-229e4842d417",
   "metadata": {},
   "outputs": [
    {
     "name": "stdout",
     "output_type": "stream",
     "text": [
      "Vocabulary:\n",
      " ['the', 'quick', '.', 'lazy', 'dog', 'over', 'brown', 'fox', 'jump', 'never', 'is', 'fast', 'and', 'quickly', 'jumps']\n"
     ]
    }
   ],
   "source": [
    "# Initialize and train the Word2Vec model\n",
    "# Using the Skip-Gram model by setting sg=1\n",
    "word2vec_model = Word2Vec(sentences=tokenized_documents, vector_size=100, window=3, sg=1, min_count=1, epochs=100)\n",
    "\n",
    "# Display the vocabulary\n",
    "vocab = list(word2vec_model.wv.index_to_key)\n",
    "print(\"Vocabulary:\\n\", vocab)\n"
   ]
  },
  {
   "cell_type": "markdown",
   "id": "1457742a-4cef-4128-b327-e83d0751c88f",
   "metadata": {},
   "source": [
    "#### 4. Explore the Word Embeddings"
   ]
  },
  {
   "cell_type": "code",
   "execution_count": 5,
   "id": "17b9bcb7-df5f-4718-8362-a4327c8265f3",
   "metadata": {},
   "outputs": [
    {
     "name": "stdout",
     "output_type": "stream",
     "text": [
      "\n",
      "Vector for 'quick':\n",
      " [-8.7621128e-03  3.8908108e-03  5.5894717e-03  5.7808403e-03\n",
      "  7.5336108e-03 -6.3834656e-03  1.4439984e-03  6.6834823e-03\n",
      " -3.2562525e-03 -6.8524317e-03 -2.6144154e-04 -8.8059939e-03\n",
      " -5.7926904e-03  6.9426936e-03  3.4165697e-03  7.1209567e-03\n",
      "  7.3234737e-03  7.6994216e-03 -4.2071738e-03 -1.3784240e-03\n",
      "  2.2323127e-03 -4.5576920e-03  9.1809444e-03 -1.0133126e-02\n",
      "  6.5365499e-03  3.1365447e-03 -5.1244567e-03  4.7948915e-03\n",
      " -2.0395664e-03  7.2554201e-03  1.0082860e-02 -4.6565877e-03\n",
      " -6.0574262e-04 -6.2608402e-03  3.6736436e-03  2.8662907e-03\n",
      "  7.1448293e-03  6.1845412e-03  9.4512403e-03  9.4600162e-03\n",
      "  8.3552049e-03 -7.1904450e-03 -9.6462248e-03 -1.4001103e-04\n",
      " -2.9036994e-03  7.8155315e-03  5.9187748e-03 -1.6038057e-03\n",
      "  1.5622661e-03  2.0128048e-03  7.9391329e-03 -9.9763954e-03\n",
      " -5.5732598e-05  3.1866531e-03 -1.4364254e-03  8.3431937e-03\n",
      "  9.0993978e-03  6.5037110e-03 -7.6394901e-04  7.9065189e-03\n",
      " -8.6081987e-03  2.9461284e-03 -4.1526128e-03 -5.1178080e-03\n",
      "  3.4057379e-03  5.9971567e-03  7.9284571e-03 -5.3918897e-03\n",
      "  6.9556846e-03  6.5015624e-03 -3.5504089e-03 -8.3634211e-03\n",
      "  5.9050173e-03  6.8306280e-03 -8.5139961e-04 -6.5405881e-03\n",
      " -6.8554650e-03 -2.5318698e-03  5.0896192e-03 -3.9635040e-03\n",
      " -9.8303836e-03  3.8181953e-03  4.9223914e-03 -6.3960613e-03\n",
      "  1.0666117e-03 -2.5287503e-03  3.8602826e-04 -9.8903803e-03\n",
      "  2.8861279e-03 -4.8224498e-03  1.3677505e-03 -1.4800976e-03\n",
      "  2.2012426e-03 -8.0242595e-03 -2.1054668e-03  2.7685447e-03\n",
      "  5.7020639e-03 -2.7273220e-03 -9.3560247e-03  4.4841035e-03]\n",
      "\n",
      "Top 3 words similar to 'quick':\n",
      " [('jumps', 0.1781766563653946), ('quickly', 0.1439824402332306), ('lazy', 0.09621956944465637)]\n"
     ]
    }
   ],
   "source": [
    "# Get the vector for a specific word\n",
    "word_vector = word2vec_model.wv['quick']\n",
    "print(\"\\nVector for 'quick':\\n\", word_vector)\n",
    "\n",
    "# Find the top 3 most similar words to 'quick'\n",
    "similar_words = word2vec_model.wv.most_similar('quick', topn=3)\n",
    "print(\"\\nTop 3 words similar to 'quick':\\n\", similar_words)"
   ]
  },
  {
   "cell_type": "markdown",
   "id": "bbcb5deb-bd84-408a-ad2e-fdafb1527e85",
   "metadata": {},
   "source": [
    "#### 5. Visualizing Word Embeddings (Optional)\n",
    "\n",
    "To visualize word embeddings, we can reduce the dimensionality of the word vectors using techniques like PCA or t-SNE."
   ]
  },
  {
   "cell_type": "code",
   "execution_count": 6,
   "id": "cdb25279-8ee5-44f7-9b45-4aa015eb0f1c",
   "metadata": {},
   "outputs": [
    {
     "data": {
      "image/png": "[encoded data removed]",
      "text/plain": [
       "<Figure size 1000x700 with 1 Axes>"
      ]
     },
     "metadata": {},
     "output_type": "display_data"
    }
   ],
   "source": [
    "from sklearn.decomposition import PCA\n",
    "import matplotlib.pyplot as plt\n",
    "\n",
    "# Extract word vectors and reduce their dimensionality using PCA\n",
    "word_vectors = word2vec_model.wv[vocab]\n",
    "pca = PCA(n_components=2)\n",
    "word_vecs_2d = pca.fit_transform(word_vectors)\n",
    "\n",
    "# Plot the words in 2D space\n",
    "plt.figure(figsize=(10, 7))\n",
    "plt.scatter(word_vecs_2d[:, 0], word_vecs_2d[:, 1])\n",
    "\n",
    "for i, word in enumerate(vocab):\n",
    "    plt.annotate(word, (word_vecs_2d[i, 0], word_vecs_2d[i, 1]))\n",
    "\n",
    "plt.title('Word2Vec Embeddings Visualization')\n",
    "plt.show()\n",
    "\n",
    "\n"
   ]
  },
  {
   "cell_type": "markdown",
   "id": "63d70a80-2455-4384-aa54-4a6c10033c8f",
   "metadata": {},
   "source": [
    "## 2013 - Word2Vec\n",
    "\n",
    "Word embeddings are high-dimensional vectors encapsulating semantic associations, as described by Word2Vec. This was a substantial advancement in capturing textual semantics.\n",
    "\n",
    "### Word2Vec (2013)\n",
    "\n",
    "Word2Vec is a neural network-based model that learns word embeddings from a large corpus of text. These embeddings are high-dimensional vectors that represent the semantic meaning of words, allowing words with similar meanings to have similar vector representations. Word2Vec introduced two main architectures for generating word embeddings: Continuous Bag of Words (CBOW) and Skip-Gram.\n",
    "\n",
    "#### 1. Continuous Bag of Words (CBOW)\n",
    "\n",
    "In the CBOW model, the objective is to predict a target word given its context words within a window of a fixed size. \n",
    "\n",
    "Given a sequence of words $ w_1, w_2, \\ldots, w_T $, the context window size $ c $, and a target word $ w_t $, the CBOW model aims to maximize the probability of the target word given the context words:\n",
    "\n",
    "$$\n",
    "\\text{maximize} \\quad P(w_t \\mid w_{t-c}, \\ldots, w_{t-1}, w_{t+1}, \\ldots, w_{t+c})\n",
    "$$\n",
    "\n",
    "The probability of the target word $ w_t $ given the context is computed using the softmax function:\n",
    "\n",
    "$$\n",
    "P(w_t \\mid \\text{context}) = \\frac{\\exp(\\mathbf{v}_{w_t}^\\top \\mathbf{h})}{\\sum_{w=1}^{|V|} \\exp(\\mathbf{v}_{w}^\\top \\mathbf{h})}\n",
    "$$\n",
    "\n",
    "Where:\n",
    "- $ \\mathbf{v}_{w_t} $ is the vector representation (embedding) of the target word $ w_t $.\n",
    "- $ \\mathbf{h} $ is the average of the context word vectors.\n",
    "- $ |V| $ is the size of the vocabulary.\n",
    "\n",
    "#### 2. Skip-Gram\n",
    "\n",
    "The Skip-Gram model works in the opposite direction of CBOW. Given a target word $ w_t $, it aims to predict the context words within a certain window size $ c $:\n",
    "\n",
    "$$\n",
    "\\text{maximize} \\quad \\prod_{-c \\leq j \\leq c, j \\neq 0} P(w_{t+j} \\mid w_t)\n",
    "$$\n",
    "\n",
    "The probability of each context word $ w_{t+j} $ given the target word $ w_t $ is also computed using the softmax function:\n",
    "\n",
    "$$\n",
    "P(w_{t+j} \\mid w_t) = \\frac{\\exp(\\mathbf{v}_{w_{t+j}}^\\top \\mathbf{v}_{w_t})}{\\sum_{w=1}^{|V|} \\exp(\\mathbf{v}_{w}^\\top \\mathbf{v}_{w_t})}\n",
    "$$\n",
    "\n",
    "Where:\n",
    "- $ \\mathbf{v}_{w_{t+j}} $ is the vector representation of the context word $ w_{t+j} $.\n",
    "- $ \\mathbf{v}_{w_t} $ is the vector representation of the target word $ w_t $.\n",
    "- $ |V| $ is the size of the vocabulary.\n",
    "\n",
    "#### 3. Training Objective\n",
    "\n",
    "The training objective for both CBOW and Skip-Gram is to maximize the log likelihood of the observed word-context pairs in the corpus. This is typically done using optimization techniques like Stochastic Gradient Descent (SGD).\n",
    "\n",
    "#### 4. Word Embeddings\n",
    "\n",
    "Once trained, the model produces word embeddings—high-dimensional vectors $ \\mathbf{v}_w $ for each word $ w $ in the vocabulary. These vectors encapsulate semantic relationships, allowing words with similar meanings to have similar embeddings. This enables various natural language processing tasks such as word analogy solving, clustering, and classification.\n",
    "\n",
    "### Example\n",
    "\n",
    "Consider a small corpus with the following sentences:\n",
    "1. \"The quick brown fox jumps over the lazy dog.\"\n",
    "2. \"Never jump over the lazy dog quickly.\"\n",
    "3. \"The quick brown fox is quick and fast.\"\n",
    "\n",
    "Using Word2Vec with a small window size, the model learns embeddings for each word based on its surrounding words. For example, the word \"quick\" might have a vector representation $ \\mathbf{v}_{\\text{quick}} $ that is close to $ \\mathbf{v}_{\\text{fast}} $ in the vector space due to their similar contexts.\n",
    "\n",
    "### Mathematical Notation\n",
    "\n",
    "- **CBOW Objective:** $ P(w_t \\mid w_{t-c}, \\ldots, w_{t-1}, w_{t+1}, \\ldots, w_{t+c}) $\n",
    "- **Skip-Gram Objective:** $ \\prod_{-c \\leq j \\leq c, j \\neq 0} P(w_{t+j} \\mid w_t) $\n",
    "- **Softmax Probability (CBOW):**\n",
    "  $$\n",
    "  P(w_t \\mid \\text{context}) = \\frac{\\exp(\\mathbf{v}_{w_t}^\\top \\mathbf{h})}{\\sum_{w=1}^{|V|} \\exp(\\mathbf{v}_{w}^\\top \\mathbf{h})}\n",
    "  $$\n",
    "- **Softmax Probability (Skip-Gram):**\n",
    "  $$\n",
    "  P(w_{t+j} \\mid w_t) = \\frac{\\exp(\\mathbf{v}_{w_{t+j}}^\\top \\mathbf{v}_{w_t})}{\\sum_{w=1}^{|V|} \\exp(\\mathbf{v}_{w}^\\top \\mathbf{v}_{w_t})}\n",
    "  $$\n",
    "\n",
    "### Summary\n",
    "Word2Vec represents a significant advancement in NLP by learning continuous word embeddings that capture semantic relationships. By training a neural network model on a large text corpus, it provides a powerful way to represent words in a vector space, enabling various downstream tasks in natural language processing.\n"
   ]
  },
  {
   "cell_type": "code",
   "execution_count": null,
   "id": "5077fcd3-a012-4e6e-876a-d6436e3a87f8",
   "metadata": {},
   "outputs": [],
   "source": []
  }
 ],
 "metadata": {
  "kernelspec": {
   "display_name": "Python 3 (ipykernel)",
   "language": "python",
   "name": "python3"
  },
  "language_info": {
   "codemirror_mode": {
    "name": "ipython",
    "version": 3
   },
   "file_extension": ".py",
   "mimetype": "text/x-python",
   "name": "python",
   "nbconvert_exporter": "python",
   "pygments_lexer": "ipython3",
   "version": "3.12.6"
  }
 },
 "nbformat": 4,
 "nbformat_minor": 5
}
