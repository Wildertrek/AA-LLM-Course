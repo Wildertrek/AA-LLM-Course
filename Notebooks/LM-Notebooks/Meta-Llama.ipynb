{
 "cells": [
  {
   "cell_type": "markdown",
   "id": "0132bd99-abe8-4fde-9642-4738938c49ce",
   "metadata": {},
   "source": [
    "<a href=\"https://ai.meta.com/\" target=\"_blank\">\n",
    "    <img src=\"https://scontent.forf1-4.fna.fbcdn.net/v/t39.8562-6/252294889_575082167077436_6034106545912333281_n.svg/meta-logo-primary_standardsize.svg?_nc_cat=1&ccb=1-7&_nc_sid=e280be&_nc_ohc=E3vN3ZQbVPwQ7kNvgFupN27&_nc_ht=scontent.forf1-4.fna&_nc_gid=AAZpUpv3aqRnMKBnXdssagA&oh=00_AYAKW8N74m1VRdiVLz-Y4oXD7eC2d9gvwm0ICC2ivtndKw&oe=671FF8B9\" alt=\"MetaAI Logo\" width=\"300\" height=\"100\" style=\"display: block; margin-left: auto; margin-right: auto;\">\n",
    "</a>\n",
    "\n",
    "\n",
    "- [AI at Meta](https://ai.meta.com/)\n",
    "- [Llama](https://www.llama.com/)\n",
    "- [HuggingFace Meta Llama](https://huggingface.co/meta-llama)\n",
    "- [Llama Docs](https://www.llama.com/docs/overview)\n",
    "- [Llama Paper](https://arxiv.org/pdf/2302.13971)"
   ]
  },
  {
   "cell_type": "markdown",
   "id": "3b570ac9-30e3-452c-a830-3986b9bec543",
   "metadata": {},
   "source": [
    "## Setup Ollama"
   ]
  },
  {
   "cell_type": "code",
   "execution_count": 2,
   "id": "0825ea57-7996-4592-8b62-5f91c8425f5e",
   "metadata": {},
   "outputs": [
    {
     "name": "stdout",
     "output_type": "stream",
     "text": [
      "The novel \"The Godfather\" was written by Mario Puzo. The book was first published in 1969 and has since become a classic of crime fiction. It tells the story of the Corleone family, an Italian-American Mafia family, and their struggles to maintain power and respectability in a rapidly changing world.\n",
      "\n",
      "Mario Puzo (1920-1999) was an American author and screenwriter who is best known for his novels about the Italian-American Mafia. He wrote several books that were adapted into successful films, including \"The Godfather\" and its sequel, as well as \"Fools Die\" and \"The Last Don\".\n",
      "\n",
      "Francis Ford Coppola directed the film adaptation of \"The Godfather\", which was released in 1972 and is widely considered to be one of the greatest films of all time. The book and film are both critically acclaimed and have had a significant impact on popular culture.\n"
     ]
    }
   ],
   "source": [
    "import requests\n",
    "import json\n",
    "\n",
    "url = \"http://localhost:11434/api/chat\"\n",
    "\n",
    "def llama3(prompt):\n",
    "    data = {\n",
    "        \"model\": \"llama3\",\n",
    "        \"messages\": [\n",
    "            {\n",
    "                \"role\": \"user\",\n",
    "                \"content\": prompt\n",
    "            }\n",
    "        ],\n",
    "        \"stream\": False,\n",
    "    }\n",
    "\n",
    "    headers = {\n",
    "        \"Content-Type\": \"application/json\"\n",
    "    }\n",
    "\n",
    "    response = requests.post(url, headers=headers, json=data)\n",
    "    return response.json()[\"message\"][\"content\"]\n",
    "\n",
    "response = llama3(\"who wrote the book godfather\")\n",
    "print(response)"
   ]
  },
  {
   "cell_type": "code",
   "execution_count": null,
   "id": "e6465574-0f03-4855-97c1-36dd9f36e8d6",
   "metadata": {},
   "outputs": [],
   "source": []
  }
 ],
 "metadata": {
  "kernelspec": {
   "display_name": "Python 3 (ipykernel)",
   "language": "python",
   "name": "python3"
  },
  "language_info": {
   "codemirror_mode": {
    "name": "ipython",
    "version": 3
   },
   "file_extension": ".py",
   "mimetype": "text/x-python",
   "name": "python",
   "nbconvert_exporter": "python",
   "pygments_lexer": "ipython3",
   "version": "3.12.6"
  }
 },
 "nbformat": 4,
 "nbformat_minor": 5
}
