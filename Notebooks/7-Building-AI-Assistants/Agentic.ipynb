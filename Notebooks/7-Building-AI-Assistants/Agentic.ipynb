{
 "cells": [
  {
   "cell_type": "markdown",
   "id": "5f3f0755-83ab-460a-b0ba-12dedfbf4e7a",
   "metadata": {},
   "source": [
    "# Agentic"
   ]
  },
  {
   "cell_type": "markdown",
   "id": "16aebfb8-4782-4c1f-9684-07436b5bf38d",
   "metadata": {},
   "source": [
    "In the rapidly evolving field of AI agent development, several frameworks have emerged to facilitate the creation of autonomous agents capable of complex reasoning and task execution. Here are some of the top frameworks:\n",
    "\n",
    "1. [**LangChain**](https://www.langchain.com/): LangChain is designed to assist in building applications that integrate large language models (LLMs) with external data sources and computational capabilities. It provides tools for connecting LLMs to various data inputs and outputs, enabling more dynamic and context-aware interactions.\n",
    "\n",
    "2. [**LangGraph**](https://www.langchain.com/langgraph): Built upon LangChain, LangGraph offers an open-source orchestration framework that simplifies the creation of complex AI workflows. It introduces user-friendly wrappers, making it easier to develop agentic workflows by enhancing the accessibility of LangChain's SDK.\n",
    "\n",
    "3. [**CrewAI**](https://www.crewai.com/): CrewAI is an AI agent framework that focuses on facilitating the development of collaborative multi-agent systems. It provides tools and libraries to design agents capable of working together to achieve shared objectives, emphasizing coordination and communication among agents.\n",
    "\n",
    "4. [**Microsoft Autogen**](https://www.microsoft.com/en-us/research/project/autogen/): Developed by Microsoft, Autogen is a framework aimed at automating the generation of code and other outputs using AI models. It assists developers in creating applications that can generate code snippets, documentation, and other resources, streamlining the development process.\n",
    "\n",
    "5. [**OpenAI Swarm**](https://github.com/openai/swarm): OpenAI Swarm is a framework designed to manage and coordinate multiple AI agents working in tandem. It provides infrastructure for deploying and overseeing agent collectives, enabling them to collaborate effectively on complex tasks.\n",
    "\n",
    "6. [**Phidata**](https://www.phidata.com/): Phidata is an AI agent framework that offers tools for building data-centric AI applications. It focuses on integrating AI agents with data workflows, allowing for the creation of agents that can process, analyze, and act upon data-driven insights.\n",
    "\n",
    "7. [**Vertex AI**](https://cloud.google.com/products/agent-builder): Offered by Google Cloud, Vertex AI is a comprehensive machine learning platform that includes tools for building, deploying, and scaling AI agents. It provides a unified interface for managing the entire machine learning lifecycle, from data preparation to model deployment.\n",
    "\n",
    "8. [**Langflow**](https://www.langflow.org/): Langflow is a framework that facilitates the development of AI agents with a focus on natural language understanding and generation. It provides components for building conversational agents capable of engaging in dynamic and contextually relevant dialogues.\n",
    "\n",
    "These frameworks offer diverse tools and capabilities to support the development of AI agents across various applications, from natural language processing to collaborative multi-agent systems. "
   ]
  },
  {
   "cell_type": "code",
   "execution_count": null,
   "id": "e5ec2a21-0fa5-4283-899b-9cad73b26c7b",
   "metadata": {},
   "outputs": [],
   "source": []
  }
 ],
 "metadata": {
  "kernelspec": {
   "display_name": "Python 3 (ipykernel)",
   "language": "python",
   "name": "python3"
  },
  "language_info": {
   "codemirror_mode": {
    "name": "ipython",
    "version": 3
   },
   "file_extension": ".py",
   "mimetype": "text/x-python",
   "name": "python",
   "nbconvert_exporter": "python",
   "pygments_lexer": "ipython3",
   "version": "3.13.1"
  }
 },
 "nbformat": 4,
 "nbformat_minor": 5
}
