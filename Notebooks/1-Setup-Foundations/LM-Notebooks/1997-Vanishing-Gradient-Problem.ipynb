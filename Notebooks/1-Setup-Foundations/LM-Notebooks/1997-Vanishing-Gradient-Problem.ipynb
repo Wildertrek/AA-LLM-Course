{
 "cells": [
  {
   "cell_type": "markdown",
   "id": "54932564-f128-4ed2-b85a-17c02393458e",
   "metadata": {},
   "source": [
    "# Vanishing Gradient Problem"
   ]
  },
  {
   "cell_type": "markdown",
   "id": "b7e384cb-e8c2-4aae-8c10-c9d52dfcfceb",
   "metadata": {},
   "source": [
    "The **vanishing gradient problem** was first identified and analyzed in the paper titled **\"Learning Long-Term Dependencies with Gradient Descent is Difficult\"** by **Sepp Hochreiter**. It was published in 1991 as part of his diploma thesis and later expanded in the paper co-authored with **Jürgen Schmidhuber** in 1997.\n",
    "\n",
    "- **Hochreiter, S. (1991).** \"Learning Long-Term Dependencies with Gradient Descent is Difficult.\" Diploma thesis, Institut für Informatik, Technische Universität München.\n",
    "- **Hochreiter, S., & Schmidhuber, J. (1997).** [\"Long Short-Term Memory\"](https://www.bioinf.jku.at/publications/older/2604.pdf), *Neural Computation, 9(8), 1735-1780*.\n",
    "\n",
    "The 1997 paper is well known for introducing the **Long Short-Term Memory (LSTM)** architecture, which was designed specifically to address the issues related to learning long-term dependencies, including the **vanishing gradient problem**. This problem was more thoroughly explored in the context of recurrent neural networks (RNNs) and deep learning, and the paper highlights how gradients tend to shrink as they are propagated back through time, especially in deep networks, making it difficult to learn long-term dependencies in sequential data."
   ]
  },
  {
   "cell_type": "markdown",
   "id": "94e90875-91ba-4b57-82e0-4d4ee12736fc",
   "metadata": {},
   "source": [
    "The **vanishing gradient problem** is a challenge often encountered during the training of deep neural networks, particularly those with many layers, like recurrent neural networks (RNNs) and deep feedforward networks. It occurs when the gradients of the loss function with respect to the model parameters (weights) become very small as they are propagated back through the layers during backpropagation.\n",
    "\n",
    "### Key aspects of the vanishing gradient problem:\n",
    "1. **Backpropagation**: During training, the model uses backpropagation to compute the gradient of the loss function with respect to each weight. These gradients are used to update the weights in order to minimize the loss.\n",
    "   \n",
    "2. **Small Gradients**: In deep networks, as the gradients are propagated backward through many layers, they can become very small, especially if the activation functions used (like the sigmoid or tanh functions) tend to compress the gradients to near zero. This results in extremely small weight updates.\n",
    "\n",
    "3. **Effect on Learning**: When the gradients become too small, the network weights in the earlier layers of the network update very slowly, effectively halting the learning process for those layers. As a result, the network struggles to learn long-term dependencies or features from data.\n",
    "\n",
    "4. **Common in Deep Networks**: This problem is particularly common in deep networks or RNNs where information needs to flow through many layers, as each layer's gradient contributes multiplicatively to the overall gradient, causing it to shrink as it passes through multiple layers.\n",
    "\n",
    "### Solutions:\n",
    "- **ReLU Activation**: The use of activation functions like Rectified Linear Units (ReLU) and its variants (Leaky ReLU, Parametric ReLU) helps alleviate this issue as they do not saturate, keeping gradients more stable during backpropagation.\n",
    "- **Batch Normalization**: This technique normalizes the inputs to each layer, helping stabilize and accelerate training.\n",
    "- **Residual Networks (ResNets)**: These networks use skip connections to allow gradients to flow more easily across layers, mitigating the vanishing gradient problem.\n",
    "- **LSTM/GRU for RNNs**: Long Short-Term Memory (LSTM) networks and Gated Recurrent Units (GRUs) are designed to overcome the vanishing gradient problem in recurrent neural networks by maintaining longer-term dependencies.\n",
    "\n",
    "In summary, the vanishing gradient problem hinders learning in deep networks by preventing effective weight updates, but various techniques have been developed to counter this problem."
   ]
  },
  {
   "cell_type": "code",
   "execution_count": null,
   "id": "a2b52f11-a5cf-4f21-ae83-8bf6cd9a6ea8",
   "metadata": {},
   "outputs": [],
   "source": []
  }
 ],
 "metadata": {
  "kernelspec": {
   "display_name": "Python 3 (ipykernel)",
   "language": "python",
   "name": "python3"
  },
  "language_info": {
   "codemirror_mode": {
    "name": "ipython",
    "version": 3
   },
   "file_extension": ".py",
   "mimetype": "text/x-python",
   "name": "python",
   "nbconvert_exporter": "python",
   "pygments_lexer": "ipython3",
   "version": "3.12.1"
  }
 },
 "nbformat": 4,
 "nbformat_minor": 5
}
