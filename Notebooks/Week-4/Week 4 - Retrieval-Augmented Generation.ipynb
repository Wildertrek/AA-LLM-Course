{
 "cells": [
  {
   "cell_type": "markdown",
   "id": "5f5dbf34-2146-4c57-aca2-b20c8b460d70",
   "metadata": {},
   "source": [
    "# **Week 4: Retrieval-Augmented Generation (RAG)**\n",
    "\n",
    "- **Topics:** RAG architecture and concepts, vector search concepts, similarity and distance metrics, indexing strategies, using vectors in document retrieval and LLMs.\n",
    "- **Hands-on:** Building a basic RAG pipeline with pre-trained models, implementing a vector search mechanism with a document corpus."
   ]
  },
  {
   "cell_type": "code",
   "execution_count": null,
   "id": "5af4f593-4c0a-4819-9551-2a56eb08edac",
   "metadata": {},
   "outputs": [],
   "source": []
  }
 ],
 "metadata": {
  "kernelspec": {
   "display_name": "Python 3 (ipykernel)",
   "language": "python",
   "name": "python3"
  },
  "language_info": {
   "codemirror_mode": {
    "name": "ipython",
    "version": 3
   },
   "file_extension": ".py",
   "mimetype": "text/x-python",
   "name": "python",
   "nbconvert_exporter": "python",
   "pygments_lexer": "ipython3",
   "version": "3.12.7"
  }
 },
 "nbformat": 4,
 "nbformat_minor": 5
}
